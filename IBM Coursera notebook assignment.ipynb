{
 "cells": [
  {
   "cell_type": "markdown",
   "metadata": {
    "collapsed": true
   },
   "source": [
    "# My Jupyter Notebook on IBM Watson Studio"
   ]
  },
  {
   "cell_type": "markdown",
   "metadata": {},
   "source": [
    "**Dan Lucas**\n",
    "Desired: Data Analyst"
   ]
  },
  {
   "cell_type": "markdown",
   "metadata": {},
   "source": [
    "*I am interested in Data Science because I enjoy problem solving and uncovering insights that help people make decisions. I have worked as a data analyst in the past and am interested in transitioning back and continuing into data science.*"
   ]
  },
  {
   "cell_type": "markdown",
   "metadata": {},
   "source": [
    "### The code below just prints the value of 1+1"
   ]
  },
  {
   "cell_type": "code",
   "execution_count": 3,
   "metadata": {},
   "outputs": [
    {
     "name": "stdout",
     "output_type": "stream",
     "text": [
      "2\n"
     ]
    }
   ],
   "source": [
    "print(1+1)"
   ]
  },
  {
   "cell_type": "markdown",
   "metadata": {},
   "source": [
    "* here\n",
    "* is\n",
    "* a\n",
    "* bulleted\n",
    "* list\n",
    "\n",
    "1. here\n",
    "2. is\n",
    "3. a\n",
    "4. numbered\n",
    "5. list\n",
    "\n",
    "[here's a link!](google.com)\n",
    "\n",
    "### The Beatles!\n",
    "\n",
    "> The Beatles are the best band of all time. Might not be your *favorite* (they aren't mine!) but they are the *best*. The table below lists all 4 members of The Beatles and the instruments they played in the band. Of course, most of them played other instruments as well. George Harrison knew how to play 37 different instruments! \n",
    "\n",
    "| Name | Instrument 1 | Instrument 2 |\n",
    "| :--- | :----------- | :----------- |\n",
    "| John | Guitar | Vocals |\n",
    "| Paul | Bass | Vocals |\n",
    "| George | Guitar | Vocals |\n",
    "| Ringo | Drums | |\n",
    "\n"
   ]
  },
  {
   "cell_type": "code",
   "execution_count": null,
   "metadata": {},
   "outputs": [],
   "source": []
  }
 ],
 "metadata": {
  "kernelspec": {
   "display_name": "Python 3.9",
   "language": "python",
   "name": "python3"
  },
  "language_info": {
   "codemirror_mode": {
    "name": "ipython",
    "version": 3
   },
   "file_extension": ".py",
   "mimetype": "text/x-python",
   "name": "python",
   "nbconvert_exporter": "python",
   "pygments_lexer": "ipython3",
   "version": "3.9.12"
  }
 },
 "nbformat": 4,
 "nbformat_minor": 1
}
